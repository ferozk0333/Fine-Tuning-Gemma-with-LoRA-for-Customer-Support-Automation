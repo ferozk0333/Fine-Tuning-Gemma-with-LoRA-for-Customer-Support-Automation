{
  "nbformat": 4,
  "nbformat_minor": 0,
  "metadata": {
    "colab": {
      "provenance": [],
      "machine_shape": "hm"
    },
    "kernelspec": {
      "name": "python3",
      "display_name": "Python 3"
    },
    "language_info": {
      "name": "python"
    }
  },
  "cells": [
    {
      "cell_type": "markdown",
      "source": [
        "Project: Fine-Tuning Gemma with LoRA for Customer Support Automation\n",
        "\n",
        "- Fine-tuned model using parameter-efficient LoRA adapters on 945k+ customer support tweets, enabling context-aware response generation while reducing memory by 60% using 8-bit quantization.\n",
        "\n",
        "- Built full training pipeline with Hugging Face transformers, datasets, and Trainer; saved model artifacts for real-time deployment and inference with GPU support.\n",
        "\n",
        "**Step 1: Loading the Dataset and Tokenizer**\n",
        "\n",
        "The first step is to load a customer support dataset from Hugging Face and initialize the tokenizer for the model. We need the data to train the model and the tokenizer to process that data into a format that the model can understand."
      ],
      "metadata": {
        "id": "XAuVeAOE7FOS"
      }
    },
    {
      "cell_type": "code",
      "execution_count": null,
      "metadata": {
        "id": "U2dR565wb0C9"
      },
      "outputs": [],
      "source": [
        "from datasets import load_dataset\n",
        "from transformers import AutoTokenizer\n",
        "\n",
        "# Load the dataset from Hugging Face\n",
        "dataset = load_dataset(\"MohammadOthman/mo-customer-support-tweets-945k\")\n",
        "\n",
        "# Load the tokenizer for Llama 2\n",
        "tokenizer = AutoTokenizer.from_pretrained(\"google/gemma-7b\")"
      ]
    },
    {
      "cell_type": "code",
      "source": [
        "import random\n",
        "\n",
        "for _ in range(10):\n",
        "  example = dataset['train'][random.randint(1,5000)]\n",
        "\n",
        "  for key in example:\n",
        "    print(key,\":\", example[key])\n",
        "  print(\"-\"*20)"
      ],
      "metadata": {
        "id": "N2lm6iVj45Mm"
      },
      "execution_count": null,
      "outputs": []
    },
    {
      "cell_type": "code",
      "source": [
        "small_sample = dataset[\"train\"].shuffle(seed=42).select(range(1000))\n"
      ],
      "metadata": {
        "id": "LVM-JJSe-R6Y"
      },
      "execution_count": null,
      "outputs": []
    },
    {
      "cell_type": "code",
      "source": [
        "small_sample"
      ],
      "metadata": {
        "id": "-8eK86BZ_CGX"
      },
      "execution_count": null,
      "outputs": []
    },
    {
      "cell_type": "code",
      "source": [
        "# Add a special padding token\n",
        "tokenizer.add_special_tokens({'pad_token': '[PAD]'})"
      ],
      "metadata": {
        "id": "j8QAHlX3b6wk"
      },
      "execution_count": null,
      "outputs": []
    },
    {
      "cell_type": "markdown",
      "source": [
        "**Step 2: Tokenizing the Dataset**\n",
        "\n",
        "Before training the model, we need to tokenize the dataset. This is a critical step where the text data is converted into numerical tokens.\n",
        "\n",
        "We define a function to tokenize both the customer inquiries (inputs) and the responses (outputs). The outputs will be used as labels during training."
      ],
      "metadata": {
        "id": "04GyBVaq9JCX"
      }
    },
    {
      "cell_type": "code",
      "source": [
        "def tokenize_function(examples):\n",
        "    # Tokenize inputs (customer inquiries)\n",
        "    inputs = tokenizer(\n",
        "        examples['input'], padding=\"max_length\", truncation=True, max_length=512\n",
        "    )\n",
        "\n",
        "    # Tokenize outputs (customer responses) to use as labels\n",
        "    outputs = tokenizer(\n",
        "        examples['output'], padding=\"max_length\", truncation=True, max_length=512\n",
        "    )\n",
        "\n",
        "    # Ensure that labels are the tokenized responses\n",
        "    inputs['labels'] = outputs['input_ids']\n",
        "\n",
        "    return inputs"
      ],
      "metadata": {
        "id": "Um4DFMwWb02X"
      },
      "execution_count": null,
      "outputs": []
    },
    {
      "cell_type": "code",
      "source": [
        "# Apply tokenization\n",
        "tokenized_dataset = small_sample.map(tokenize_function, batched=True)"
      ],
      "metadata": {
        "id": "l71J-3xAb04p"
      },
      "execution_count": null,
      "outputs": []
    },
    {
      "cell_type": "markdown",
      "source": [
        "**Step 3: Loading the Gemma Model with LoRA**\n",
        "\n",
        "Next, we load the model. We will fine-tune it using LoRA, a technique designed to reduce the memory and computational cost of training large models. LoRA adapts the model by introducing low-rank matrices that require fewer trainable parameters."
      ],
      "metadata": {
        "id": "ilr9U-qL_Qni"
      }
    },
    {
      "cell_type": "code",
      "source": [
        "# pip install bitsandbytes accelerate\n",
        "from transformers import AutoModelForCausalLM, BitsAndBytesConfig\n",
        "from peft import LoraConfig, get_peft_model, TaskType\n",
        "\n",
        "quantization_config = BitsAndBytesConfig(load_in_8bit=True)\n",
        "\n",
        "model = AutoModelForCausalLM.from_pretrained(\n",
        "    \"google/gemma-7b\",\n",
        "    quantization_config=quantization_config\n",
        ")\n",
        "\n",
        "input_text = \"Write me a poem about Machine Learning.\"\n",
        "input_ids = tokenizer(input_text, return_tensors=\"pt\").to(\"cuda\")\n",
        "\n",
        "outputs = model.generate(**input_ids)\n",
        "print(tokenizer.decode(outputs[0]))"
      ],
      "metadata": {
        "id": "vbuuh5S3_OBe"
      },
      "execution_count": null,
      "outputs": []
    },
    {
      "cell_type": "markdown",
      "source": [
        "We load the model in 8-bit precision, which drastically reduces memory usage. The device_map=\"auto\" argument ensures that the model is loaded on the appropriate hardware, whether it’s a GPU or CPU."
      ],
      "metadata": {
        "id": "CdOlLf79HlDN"
      }
    },
    {
      "cell_type": "code",
      "source": [
        "# Define the LoRA configuration\n",
        "peft_config = LoraConfig(\n",
        "    task_type=TaskType.CAUSAL_LM,  # Task type for causal language modeling\n",
        "    r=16,                          # Rank of the low-rank matrices\n",
        "    lora_alpha=32,                 # Scaling factor for low-rank adaptation\n",
        "    lora_dropout=0.1,              # Dropout to prevent overfitting\n",
        "    target_modules=[\"q_proj\", \"v_proj\"]  # The attention layers to apply LoRA\n",
        ")\n",
        "\n",
        "# LoRA Parameters:\n",
        "# r=16: The rank of the low-rank matrices. This value determines the extent of LoRA’s influence.\n",
        "# lora_alpha=32: A scaling factor that adjusts the impact of LoRA on the model’s layers.\n",
        "# lora_dropout=0.1: Dropout is used to prevent overfitting by randomly dropping units during training.\n",
        "# Next, we apply LoRA to the model."
      ],
      "metadata": {
        "id": "v5jvNoMsb0_O"
      },
      "execution_count": null,
      "outputs": []
    },
    {
      "cell_type": "code",
      "source": [
        "# print(model)\n"
      ],
      "metadata": {
        "id": "HHKLrEgWHnDx"
      },
      "execution_count": null,
      "outputs": []
    },
    {
      "cell_type": "markdown",
      "source": [
        "get_peft_model: This function adapts the pretrained model using the LoRA configuration. It essentially modifies certain layers in the model to be trained with LoRA, making the training process more efficient."
      ],
      "metadata": {
        "id": "GIi3SXjzKwCy"
      }
    },
    {
      "cell_type": "code",
      "source": [
        "# Apply LoRA to the model\n",
        "model = get_peft_model(model, peft_config)"
      ],
      "metadata": {
        "id": "4__pyBaeb1BB"
      },
      "execution_count": null,
      "outputs": []
    },
    {
      "cell_type": "code",
      "source": [
        "# Add the special token that we defined to the model's config\n",
        "\n",
        "\"\"\"Resize Token Embeddings: We ensure that the model’s token embeddings are updated to include the special [PAD] token added to the tokenizer earlier.\"\"\"\n",
        "\n",
        "model.resize_token_embeddings(len(tokenizer))"
      ],
      "metadata": {
        "id": "1jvr6BJOb1Da"
      },
      "execution_count": null,
      "outputs": []
    },
    {
      "cell_type": "markdown",
      "source": [
        "**Step 4: Defining the Training Arguments**\n",
        "\n",
        "The next step is to define the training arguments. These control how the model is trained, such as the learning rate, batch size, and the number of epochs."
      ],
      "metadata": {
        "id": "170L0h91S_jV"
      }
    },
    {
      "cell_type": "code",
      "source": [
        "from transformers import TrainingArguments\n",
        "\n",
        "# Define the training arguments\n",
        "training_args = TrainingArguments(\n",
        "    output_dir=\"lora-gemma-customer-support\",  # Output directory for saving the model\n",
        "    per_device_train_batch_size=32,              # Batch size per GPU (adjust based on your GPU memory)\n",
        "    gradient_accumulation_steps=4,             # Gradient accumulation steps\n",
        "    num_train_epochs=2,                         # Number of training epochs\n",
        "    learning_rate=2e-4,                         # Learning rate\n",
        "    fp16=True,                                  # Use FP16 precision\n",
        "    logging_steps=10,                           # Log training progress every 10 steps\n",
        "    save_steps=1000,                            # Save model every 1000 steps\n",
        "    save_total_limit=2,                         # Keep only the last 2 checkpoints\n",
        "    optim=\"adamw_torch\"                         # Optimizer to use\n",
        ")"
      ],
      "metadata": {
        "id": "UPtlda4Zb1Fj"
      },
      "execution_count": null,
      "outputs": []
    },
    {
      "cell_type": "markdown",
      "source": [
        "**Step 5: Initializing the Trainer**\n",
        "\n",
        "Once the training arguments are set, we can initialize the Trainer. This class handles the training loop and simplifies the process."
      ],
      "metadata": {
        "id": "6aZMaUmATigd"
      }
    },
    {
      "cell_type": "code",
      "source": [
        "from transformers import Trainer, DataCollatorForSeq2Seq\n",
        "\n",
        "# Define a data collator that dynamically pads inputs during training\n",
        "data_collator = DataCollatorForSeq2Seq(tokenizer, model=model)\n",
        "\n",
        "# Initialize the Trainer\n",
        "trainer = Trainer(\n",
        "    model=model,\n",
        "    args=training_args,\n",
        "    train_dataset=tokenized_dataset,  # Use the tokenized dataset\n",
        "    data_collator=data_collator,\n",
        ")"
      ],
      "metadata": {
        "id": "nqv0RFFhb1H8"
      },
      "execution_count": null,
      "outputs": []
    },
    {
      "cell_type": "markdown",
      "source": [
        "**Step 6: Training and Saving the Model**"
      ],
      "metadata": {
        "id": "O4XKtn4EUPdC"
      }
    },
    {
      "cell_type": "code",
      "source": [
        "# Train the model\n",
        "trainer.train()"
      ],
      "metadata": {
        "id": "ndDaFW2WUKk9"
      },
      "execution_count": null,
      "outputs": []
    },
    {
      "cell_type": "code",
      "source": [
        "adapter_path = \"/content/lora-gemma-customer-support/checkpoint-93\""
      ],
      "metadata": {
        "id": "uNzMAvJ4Y2KJ"
      },
      "execution_count": null,
      "outputs": []
    },
    {
      "cell_type": "code",
      "source": [
        "model1 = PeftModel.from_pretrained(model, adapter_path)\n",
        "model1.to(\"cuda\")"
      ],
      "metadata": {
        "id": "ko_51W4hUKpQ"
      },
      "execution_count": null,
      "outputs": []
    },
    {
      "cell_type": "code",
      "source": [
        "from peft import PeftModel"
      ],
      "metadata": {
        "id": "jJtQClUhUKrY"
      },
      "execution_count": null,
      "outputs": []
    },
    {
      "cell_type": "code",
      "source": [
        "input_text = \"My name is\"\n",
        "inputs = tokenizer(input_text, return_tensors=\"pt\").to(\"cuda\")\n",
        "outputs = model1.generate(**inputs)\n",
        "print(tokenizer.decode(outputs[0], skip_special_tokens=True))\n"
      ],
      "metadata": {
        "id": "jotWLc7OUKtQ"
      },
      "execution_count": null,
      "outputs": []
    },
    {
      "cell_type": "code",
      "source": [],
      "metadata": {
        "id": "8AuCDqCTUKvg"
      },
      "execution_count": null,
      "outputs": []
    },
    {
      "cell_type": "code",
      "source": [],
      "metadata": {
        "id": "s0VBZp7kUKxj"
      },
      "execution_count": null,
      "outputs": []
    },
    {
      "cell_type": "code",
      "source": [],
      "metadata": {
        "id": "k2TIKpn5UKzr"
      },
      "execution_count": null,
      "outputs": []
    }
  ]
}